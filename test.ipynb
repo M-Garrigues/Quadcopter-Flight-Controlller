{
 "cells": [
  {
   "cell_type": "code",
   "execution_count": 1,
   "metadata": {},
   "outputs": [],
   "source": [
    "import time\n",
    "import RPi.GPIO as GPIO\n",
    "\n",
    "\n",
    "GPIO.setwarnings(False)\n",
    "GPIO.setmode(GPIO.BCM)\n",
    "\n",
    "\n",
    "PORT = 3\n",
    "FREQUENCY = 48e6\n",
    "\n",
    "\n",
    "MAX = 40\n",
    "MIN = 0\n",
    "\n",
    "\n",
    "def percent(x: float) -> float:\n",
    "    return x * (MAX - MIN) / 100\n",
    "\n",
    "\n",
    "GPIO.setup(PORT, GPIO.OUT)\n",
    "t1 = GPIO.PWM(PORT, FREQUENCY)\n"
   ]
  },
  {
   "cell_type": "code",
   "execution_count": 2,
   "metadata": {},
   "outputs": [
    {
     "name": "stdout",
     "output_type": "stream",
     "text": [
      "BRANCHEO\n",
      "TOP\n",
      "re waiting\n"
     ]
    }
   ],
   "source": [
    "TURBO_MAX = 100\n",
    "\n",
    "t1.start(TURBO_MAX)\n",
    "\n",
    "print(\"BRANCHEO\")\n",
    "\n",
    "time.sleep(10)\n",
    "\n",
    "print(\"TOP\")\n",
    "\n",
    "t1.ChangeDutyCycle(MIN)\n",
    "\n",
    "print(\"re waiting\")\n",
    "time.sleep(10)\n",
    "t1.ChangeDutyCycle(percent(50))\n",
    "\n",
    "time.sleep(5)\n",
    "\n",
    "t1.stop()\n"
   ]
  },
  {
   "cell_type": "code",
   "execution_count": 13,
   "metadata": {},
   "outputs": [],
   "source": [
    "t1.start(percent(30))\n",
    "time.sleep(10)\n"
   ]
  },
  {
   "cell_type": "code",
   "execution_count": 12,
   "metadata": {},
   "outputs": [],
   "source": [
    "t1.stop()\n"
   ]
  }
 ],
 "metadata": {
  "kernelspec": {
   "display_name": "Python 3",
   "language": "python",
   "name": "python3"
  },
  "language_info": {
   "codemirror_mode": {
    "name": "ipython",
    "version": 3
   },
   "file_extension": ".py",
   "mimetype": "text/x-python",
   "name": "python",
   "nbconvert_exporter": "python",
   "pygments_lexer": "ipython3",
   "version": "3.9.2"
  },
  "orig_nbformat": 4
 },
 "nbformat": 4,
 "nbformat_minor": 2
}
